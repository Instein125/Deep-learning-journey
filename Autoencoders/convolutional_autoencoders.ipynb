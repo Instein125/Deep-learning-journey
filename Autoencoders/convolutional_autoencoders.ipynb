{
  "nbformat": 4,
  "nbformat_minor": 0,
  "metadata": {
    "colab": {
      "provenance": [],
      "gpuType": "T4"
    },
    "kernelspec": {
      "name": "python3",
      "display_name": "Python 3"
    },
    "language_info": {
      "name": "python"
    },
    "accelerator": "GPU"
  },
  "cells": [
    {
      "cell_type": "code",
      "execution_count": 2,
      "metadata": {
        "id": "Mtqgu7moc-_C"
      },
      "outputs": [],
      "source": [
        "import numpy as np\n",
        "from keras.datasets import mnist\n",
        "from keras.models import Model\n",
        "from keras.layers import Conv2D, MaxPool2D, Input, UpSampling2D"
      ]
    },
    {
      "cell_type": "code",
      "source": [
        "(X_train, y_train), (X_test, y_test) = mnist.load_data()"
      ],
      "metadata": {
        "colab": {
          "base_uri": "https://localhost:8080/"
        },
        "id": "HueoXsrFdwsP",
        "outputId": "085de8c9-5af4-41fa-a25c-a5252d79d371"
      },
      "execution_count": 3,
      "outputs": [
        {
          "output_type": "stream",
          "name": "stdout",
          "text": [
            "Downloading data from https://storage.googleapis.com/tensorflow/tf-keras-datasets/mnist.npz\n",
            "11490434/11490434 [==============================] - 0s 0us/step\n"
          ]
        }
      ]
    },
    {
      "cell_type": "code",
      "source": [
        "X_train.shape"
      ],
      "metadata": {
        "colab": {
          "base_uri": "https://localhost:8080/"
        },
        "id": "XS92lr58d7w5",
        "outputId": "61edbe43-c41b-45f3-d3e3-36b3bc163ec2"
      },
      "execution_count": 4,
      "outputs": [
        {
          "output_type": "execute_result",
          "data": {
            "text/plain": [
              "(60000, 28, 28)"
            ]
          },
          "metadata": {},
          "execution_count": 4
        }
      ]
    },
    {
      "cell_type": "markdown",
      "source": [
        "Visualizing the data"
      ],
      "metadata": {
        "id": "FvYqKM7Kd_fs"
      }
    },
    {
      "cell_type": "code",
      "source": [
        "import matplotlib.pyplot as plt\n",
        "plt.imshow(X_train[0], cmap = 'gray')"
      ],
      "metadata": {
        "colab": {
          "base_uri": "https://localhost:8080/",
          "height": 447
        },
        "id": "B31GmfHLd9ky",
        "outputId": "42617e12-84c9-4179-8f5b-bdea91120a04"
      },
      "execution_count": 6,
      "outputs": [
        {
          "output_type": "execute_result",
          "data": {
            "text/plain": [
              "<matplotlib.image.AxesImage at 0x7d8b2e7ca4a0>"
            ]
          },
          "metadata": {},
          "execution_count": 6
        },
        {
          "output_type": "display_data",
          "data": {
            "text/plain": [
              "<Figure size 640x480 with 1 Axes>"
            ],
            "image/png": "[encoded data removed]"
          },
          "metadata": {}
        }
      ]
    },
    {
      "cell_type": "markdown",
      "source": [
        "Normalizaing the dataset"
      ],
      "metadata": {
        "id": "EjuzSUICeVMe"
      }
    },
    {
      "cell_type": "code",
      "source": [
        "X_train = X_train / 255\n",
        "X_test = X_test / 255"
      ],
      "metadata": {
        "id": "qnIywlrIeI9A"
      },
      "execution_count": 7,
      "outputs": []
    },
    {
      "cell_type": "markdown",
      "source": [
        "Converting data into 3 dimensional vector as con2D layer takes input in 3 dimension"
      ],
      "metadata": {
        "id": "pDTOPuB_eYWS"
      }
    },
    {
      "cell_type": "code",
      "source": [
        "X_train = X_train.reshape(X_train.shape[0], 28, 28, 1 )\n",
        "X_test = X_test.reshape(X_test.shape[0], 28, 28, 1 )"
      ],
      "metadata": {
        "id": "pDHlkyq4eXzP"
      },
      "execution_count": 11,
      "outputs": []
    },
    {
      "cell_type": "markdown",
      "source": [
        "Building our model"
      ],
      "metadata": {
        "id": "Lf_f_SCZe7ui"
      }
    },
    {
      "cell_type": "code",
      "source": [
        "input_layer = Input(shape = (28, 28, 1))"
      ],
      "metadata": {
        "id": "vOEBVGFle9J_"
      },
      "execution_count": 28,
      "outputs": []
    },
    {
      "cell_type": "markdown",
      "source": [
        "Encoder"
      ],
      "metadata": {
        "id": "b63h3EOZfC7U"
      }
    },
    {
      "cell_type": "code",
      "source": [
        "x = Conv2D(16, (3,3), activation = 'relu', padding = 'same')(input_layer)\n",
        "x = MaxPool2D(pool_size=(2, 2), padding = 'same')(x)\n",
        "x = Conv2D(8, (3,3), activation = 'relu', padding = 'same')(x)\n",
        "x = MaxPool2D(pool_size=(2, 2), padding = 'same')(x)\n",
        "x = Conv2D(8, (3,3), activation = 'relu', padding = 'same')(x)\n",
        "encoded = MaxPool2D(pool_size=(2, 2), padding = 'same')(x)"
      ],
      "metadata": {
        "id": "8jdYXQGbfCNx"
      },
      "execution_count": 29,
      "outputs": []
    },
    {
      "cell_type": "markdown",
      "source": [
        "Decoder"
      ],
      "metadata": {
        "id": "LwL72xN3fqXM"
      }
    },
    {
      "cell_type": "code",
      "source": [
        "x = Conv2D(8, (3,3), activation = 'relu', padding = 'same')(encoded)\n",
        "#upsampling layer will upsample the number of parameters\n",
        "#  by restoring values that maxpool eliminated\n",
        "x = UpSampling2D((2, 2))(x)\n",
        "x = Conv2D(8, (3,3), activation = 'relu', padding = 'same')(x)\n",
        "x = UpSampling2D((2, 2))(x)\n",
        "x = Conv2D(16, (3,3), activation = 'relu', )(x)\n",
        "x = UpSampling2D((2, 2))(x)\n",
        "decoded = Conv2D(1, (3,3), activation = 'relu', padding = 'same')(x)"
      ],
      "metadata": {
        "id": "pB2zG4SufpbX"
      },
      "execution_count": 30,
      "outputs": []
    },
    {
      "cell_type": "code",
      "source": [
        "model = Model(input_layer, decoded)\n",
        "model.summary()"
      ],
      "metadata": {
        "colab": {
          "base_uri": "https://localhost:8080/"
        },
        "id": "XKpJmJhjgm1-",
        "outputId": "37f5a47f-8333-4144-9f36-fed050425b21"
      },
      "execution_count": 31,
      "outputs": [
        {
          "output_type": "stream",
          "name": "stdout",
          "text": [
            "Model: \"model_5\"\n",
            "_________________________________________________________________\n",
            " Layer (type)                Output Shape              Param #   \n",
            "=================================================================\n",
            " input_3 (InputLayer)        [(None, 28, 28, 1)]       0         \n",
            "                                                                 \n",
            " conv2d_21 (Conv2D)          (None, 28, 28, 16)        160       \n",
            "                                                                 \n",
            " max_pooling2d_9 (MaxPooling  (None, 14, 14, 16)       0         \n",
            " 2D)                                                             \n",
            "                                                                 \n",
            " conv2d_22 (Conv2D)          (None, 14, 14, 8)         1160      \n",
            "                                                                 \n",
            " max_pooling2d_10 (MaxPoolin  (None, 7, 7, 8)          0         \n",
            " g2D)                                                            \n",
            "                                                                 \n",
            " conv2d_23 (Conv2D)          (None, 7, 7, 8)           584       \n",
            "                                                                 \n",
            " max_pooling2d_11 (MaxPoolin  (None, 4, 4, 8)          0         \n",
            " g2D)                                                            \n",
            "                                                                 \n",
            " conv2d_24 (Conv2D)          (None, 4, 4, 8)           584       \n",
            "                                                                 \n",
            " up_sampling2d_9 (UpSampling  (None, 8, 8, 8)          0         \n",
            " 2D)                                                             \n",
            "                                                                 \n",
            " conv2d_25 (Conv2D)          (None, 8, 8, 8)           584       \n",
            "                                                                 \n",
            " up_sampling2d_10 (UpSamplin  (None, 16, 16, 8)        0         \n",
            " g2D)                                                            \n",
            "                                                                 \n",
            " conv2d_26 (Conv2D)          (None, 14, 14, 16)        1168      \n",
            "                                                                 \n",
            " up_sampling2d_11 (UpSamplin  (None, 28, 28, 16)       0         \n",
            " g2D)                                                            \n",
            "                                                                 \n",
            " conv2d_27 (Conv2D)          (None, 28, 28, 1)         145       \n",
            "                                                                 \n",
            "=================================================================\n",
            "Total params: 4,385\n",
            "Trainable params: 4,385\n",
            "Non-trainable params: 0\n",
            "_________________________________________________________________\n"
          ]
        }
      ]
    },
    {
      "cell_type": "code",
      "source": [
        "model.compile(loss = \"binary_crossentropy\", optimizer = 'adam', metrics = ['accuracy'])"
      ],
      "metadata": {
        "id": "k5SMKP0DgtFB"
      },
      "execution_count": 33,
      "outputs": []
    },
    {
      "cell_type": "code",
      "source": [
        "# Here both input and output will be same i.e X_train\n",
        "history = model.fit(X_train, X_train, epochs = 50, batch_size = 128, validation_data = (X_test, X_test))"
      ],
      "metadata": {
        "id": "XN28Boozh9-P"
      },
      "execution_count": null,
      "outputs": []
    },
    {
      "cell_type": "markdown",
      "source": [
        "Creating separate encoder decoder model for testing"
      ],
      "metadata": {
        "id": "a2NdVtN7j0VD"
      }
    },
    {
      "cell_type": "code",
      "source": [
        "# encoder model\n",
        "encoder = Model(input_layer, encoded)\n",
        "encoder.summary()"
      ],
      "metadata": {
        "colab": {
          "base_uri": "https://localhost:8080/"
        },
        "id": "ftUvWqOXiKJi",
        "outputId": "044bd116-072e-479f-9906-43d9067ddeb4"
      },
      "execution_count": 35,
      "outputs": [
        {
          "output_type": "stream",
          "name": "stdout",
          "text": [
            "Model: \"model_6\"\n",
            "_________________________________________________________________\n",
            " Layer (type)                Output Shape              Param #   \n",
            "=================================================================\n",
            " input_3 (InputLayer)        [(None, 28, 28, 1)]       0         \n",
            "                                                                 \n",
            " conv2d_21 (Conv2D)          (None, 28, 28, 16)        160       \n",
            "                                                                 \n",
            " max_pooling2d_9 (MaxPooling  (None, 14, 14, 16)       0         \n",
            " 2D)                                                             \n",
            "                                                                 \n",
            " conv2d_22 (Conv2D)          (None, 14, 14, 8)         1160      \n",
            "                                                                 \n",
            " max_pooling2d_10 (MaxPoolin  (None, 7, 7, 8)          0         \n",
            " g2D)                                                            \n",
            "                                                                 \n",
            " conv2d_23 (Conv2D)          (None, 7, 7, 8)           584       \n",
            "                                                                 \n",
            " max_pooling2d_11 (MaxPoolin  (None, 4, 4, 8)          0         \n",
            " g2D)                                                            \n",
            "                                                                 \n",
            "=================================================================\n",
            "Total params: 1,904\n",
            "Trainable params: 1,904\n",
            "Non-trainable params: 0\n",
            "_________________________________________________________________\n"
          ]
        }
      ]
    },
    {
      "cell_type": "code",
      "source": [
        "# To create the decoder layer\n",
        "# first initializa its input shape which is the output of encoder layer\n",
        "decoder_layer = Input(shape = (4, 4, 8))\n",
        "# model.layers[7] is conv2D_24 layer. From this layer every layer is part of the decoder\n",
        "decoder = model.layers[7](decoder_layer)\n",
        "for layer in model.layers[8:]:\n",
        "  decoder = layer(decoder)\n",
        "decoder = Model(decoder_layer, decoder)\n",
        "decoder.summary()\n"
      ],
      "metadata": {
        "colab": {
          "base_uri": "https://localhost:8080/"
        },
        "id": "m144QvdUkAMg",
        "outputId": "e36e254d-6eca-479c-c8f6-d7c3d91986b0"
      },
      "execution_count": 39,
      "outputs": [
        {
          "output_type": "stream",
          "name": "stdout",
          "text": [
            "Model: \"model_7\"\n",
            "_________________________________________________________________\n",
            " Layer (type)                Output Shape              Param #   \n",
            "=================================================================\n",
            " input_7 (InputLayer)        [(None, 4, 4, 8)]         0         \n",
            "                                                                 \n",
            " conv2d_24 (Conv2D)          (None, 4, 4, 8)           584       \n",
            "                                                                 \n",
            " up_sampling2d_9 (UpSampling  (None, 8, 8, 8)          0         \n",
            " 2D)                                                             \n",
            "                                                                 \n",
            " conv2d_25 (Conv2D)          (None, 8, 8, 8)           584       \n",
            "                                                                 \n",
            " up_sampling2d_10 (UpSamplin  (None, 16, 16, 8)        0         \n",
            " g2D)                                                            \n",
            "                                                                 \n",
            " conv2d_26 (Conv2D)          (None, 14, 14, 16)        1168      \n",
            "                                                                 \n",
            " up_sampling2d_11 (UpSamplin  (None, 28, 28, 16)       0         \n",
            " g2D)                                                            \n",
            "                                                                 \n",
            " conv2d_27 (Conv2D)          (None, 28, 28, 1)         145       \n",
            "                                                                 \n",
            "=================================================================\n",
            "Total params: 2,481\n",
            "Trainable params: 2,481\n",
            "Non-trainable params: 0\n",
            "_________________________________________________________________\n"
          ]
        }
      ]
    },
    {
      "cell_type": "markdown",
      "source": [
        "Encoding our test data first"
      ],
      "metadata": {
        "id": "AhT9SpqEllSj"
      }
    },
    {
      "cell_type": "code",
      "source": [
        "encoded_image = encoder.predict(X_test)"
      ],
      "metadata": {
        "colab": {
          "base_uri": "https://localhost:8080/"
        },
        "id": "XU6fhxLrku5F",
        "outputId": "51403e68-f10b-4554-9853-29cbe0b23767"
      },
      "execution_count": 40,
      "outputs": [
        {
          "output_type": "stream",
          "name": "stdout",
          "text": [
            "313/313 [==============================] - 1s 2ms/step\n"
          ]
        }
      ]
    },
    {
      "cell_type": "code",
      "source": [
        "encoded_image.shape"
      ],
      "metadata": {
        "colab": {
          "base_uri": "https://localhost:8080/"
        },
        "id": "4-iLBkY1lsBt",
        "outputId": "608d8119-6481-4e4b-806b-af98b2bc44fe"
      },
      "execution_count": 41,
      "outputs": [
        {
          "output_type": "execute_result",
          "data": {
            "text/plain": [
              "(10000, 4, 4, 8)"
            ]
          },
          "metadata": {},
          "execution_count": 41
        }
      ]
    },
    {
      "cell_type": "markdown",
      "source": [
        "Using decoder to reconstruct our test data"
      ],
      "metadata": {
        "id": "Qds_m-HYlwJn"
      }
    },
    {
      "cell_type": "code",
      "source": [
        "decoded_image = decoder.predict(encoded_image)"
      ],
      "metadata": {
        "colab": {
          "base_uri": "https://localhost:8080/"
        },
        "id": "YXVp5DYyluzg",
        "outputId": "b95e6fc1-7772-4586-b5dd-b355cf142cc7"
      },
      "execution_count": 42,
      "outputs": [
        {
          "output_type": "stream",
          "name": "stdout",
          "text": [
            "313/313 [==============================] - 1s 3ms/step\n"
          ]
        }
      ]
    },
    {
      "cell_type": "code",
      "source": [
        "decoded_image.shape"
      ],
      "metadata": {
        "colab": {
          "base_uri": "https://localhost:8080/"
        },
        "id": "06bC8ML4l6no",
        "outputId": "617881fc-6cec-49b6-e192-100e8ec51510"
      },
      "execution_count": 43,
      "outputs": [
        {
          "output_type": "execute_result",
          "data": {
            "text/plain": [
              "(10000, 28, 28, 1)"
            ]
          },
          "metadata": {},
          "execution_count": 43
        }
      ]
    },
    {
      "cell_type": "markdown",
      "source": [
        "Visualing the reconstructed data"
      ],
      "metadata": {
        "id": "nq2v2q91l-5J"
      }
    },
    {
      "cell_type": "code",
      "source": [
        "# converting to 2 dimension\n",
        "decoded_image = decoded_image.reshape(decoded_image.shape[0], 28, 28)\n",
        "plt.imshow(decoded_image[0], cmap = 'gray')"
      ],
      "metadata": {
        "colab": {
          "base_uri": "https://localhost:8080/",
          "height": 447
        },
        "id": "VBG_8Im2l9IC",
        "outputId": "d5202b71-d2c2-4743-e35d-eedab0ae3925"
      },
      "execution_count": 47,
      "outputs": [
        {
          "output_type": "execute_result",
          "data": {
            "text/plain": [
              "<matplotlib.image.AxesImage at 0x7d8a6e3cea70>"
            ]
          },
          "metadata": {},
          "execution_count": 47
        },
        {
          "output_type": "display_data",
          "data": {
            "text/plain": [
              "<Figure size 640x480 with 1 Axes>"
            ],
            "image/png": "[encoded data removed]"
          },
          "metadata": {}
        }
      ]
    },
    {
      "cell_type": "code",
      "source": [
        "X_test = X_test.reshape(X_test.shape[0], 28,28)\n",
        "plt.imshow(X_test[0], cmap = 'gray')"
      ],
      "metadata": {
        "colab": {
          "base_uri": "https://localhost:8080/",
          "height": 447
        },
        "id": "hH9xVZRRmP6V",
        "outputId": "7f037627-bbb0-4b1f-cbda-98aee7ae7196"
      },
      "execution_count": 49,
      "outputs": [
        {
          "output_type": "execute_result",
          "data": {
            "text/plain": [
              "<matplotlib.image.AxesImage at 0x7d8a88275120>"
            ]
          },
          "metadata": {},
          "execution_count": 49
        },
        {
          "output_type": "display_data",
          "data": {
            "text/plain": [
              "<Figure size 640x480 with 1 Axes>"
            ],
            "image/png": "[encoded data removed]"
          },
          "metadata": {}
        }
      ]
    },
    {
      "cell_type": "markdown",
      "source": [
        "The reconstruted image is blurry as during reconstruction it looses some details"
      ],
      "metadata": {
        "id": "FrnaUdf1mmUl"
      }
    }
  ]
}