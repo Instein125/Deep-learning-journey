{
  "nbformat": 4,
  "nbformat_minor": 0,
  "metadata": {
    "colab": {
      "provenance": [],
      "gpuType": "T4"
    },
    "kernelspec": {
      "name": "python3",
      "display_name": "Python 3"
    },
    "language_info": {
      "name": "python"
    },
    "accelerator": "GPU"
  },
  "cells": [
    {
      "cell_type": "code",
      "execution_count": 1,
      "metadata": {
        "id": "NIcOR9JlLG1y"
      },
      "outputs": [],
      "source": [
        "import numpy as np\n",
        "import pandas as pd\n",
        "import torch\n",
        "import torch.nn as nn\n",
        "import torch.nn.parallel\n",
        "import torch.optim as optim\n",
        "import torch.utils.data\n",
        "from torch.autograd import Variable"
      ]
    },
    {
      "cell_type": "code",
      "source": [
        "movies = pd.read_csv(\"movies.dat\", sep=\"::\", encoding = \"latin-1\")\n",
        "ratings = pd.read_csv(\"ratings.dat\", sep=\"::\",  encoding = \"latin-1\")\n",
        "users = pd.read_csv(\"users.dat\", sep=\"::\", encoding = \"latin-1\")\n",
        "\n",
        "train_set = pd.read_csv(\"u2.base\", delimiter='\\t')\n",
        "test_set = pd.read_csv(\"u2.test\", delimiter='\\t')\n",
        "\n",
        "# Conveting to numpy array\n",
        "train_set = np.array(train_set, dtype = 'int')\n",
        "test_set = np.array(test_set, dtype = 'int')\n",
        "\n",
        "# Getting the number of users and movies\n",
        "no_users = int(max(max(train_set[:, 0]), max(test_set[:,0])))\n",
        "no_movies = int(max(max(train_set[:, 1]), max(test_set[:,1])))\n",
        "print(\"Number of users:\", no_users)\n",
        "print(\"Number of movies:\", no_movies)"
      ],
      "metadata": {
        "colab": {
          "base_uri": "https://localhost:8080/"
        },
        "id": "ezvQ2qnLLYJK",
        "outputId": "4eceb984-c33f-4c2c-80d0-ef826856fcd6"
      },
      "execution_count": 3,
      "outputs": [
        {
          "output_type": "stream",
          "name": "stderr",
          "text": [
            "<ipython-input-3-e7d04131710c>:1: ParserWarning: Falling back to the 'python' engine because the 'c' engine does not support regex separators (separators > 1 char and different from '\\s+' are interpreted as regex); you can avoid this warning by specifying engine='python'.\n",
            "  movies = pd.read_csv(\"movies.dat\", sep=\"::\", encoding = \"latin-1\")\n",
            "<ipython-input-3-e7d04131710c>:2: ParserWarning: Falling back to the 'python' engine because the 'c' engine does not support regex separators (separators > 1 char and different from '\\s+' are interpreted as regex); you can avoid this warning by specifying engine='python'.\n",
            "  ratings = pd.read_csv(\"ratings.dat\", sep=\"::\",  encoding = \"latin-1\")\n"
          ]
        },
        {
          "output_type": "stream",
          "name": "stdout",
          "text": [
            "Number of users: 943\n",
            "Number of movies: 1682\n"
          ]
        },
        {
          "output_type": "stream",
          "name": "stderr",
          "text": [
            "<ipython-input-3-e7d04131710c>:3: ParserWarning: Falling back to the 'python' engine because the 'c' engine does not support regex separators (separators > 1 char and different from '\\s+' are interpreted as regex); you can avoid this warning by specifying engine='python'.\n",
            "  users = pd.read_csv(\"users.dat\", sep=\"::\", encoding = \"latin-1\")\n"
          ]
        }
      ]
    },
    {
      "cell_type": "code",
      "source": [
        "def convert(data):\n",
        "  new_data = []\n",
        "  for id in range(1, no_users +1):\n",
        "    movie_id = data[:, 1][data[:, 0] == id]\n",
        "    rating_id = data[:, 2][data[:, 0] == id]\n",
        "    ratings = np.zeros(no_movies)\n",
        "    ratings[movie_id -1] = rating_id\n",
        "    new_data.append(list(ratings))\n",
        "  return new_data\n",
        "\n",
        "train_set = convert(train_set)\n",
        "test_set = convert(test_set)"
      ],
      "metadata": {
        "id": "mgxbEeZtLZ8s"
      },
      "execution_count": 4,
      "outputs": []
    },
    {
      "cell_type": "code",
      "source": [
        "train_set = torch.FloatTensor(train_set)\n",
        "test_set = torch.FloatTensor(test_set)"
      ],
      "metadata": {
        "id": "TcNWT08eL2Ss"
      },
      "execution_count": 5,
      "outputs": []
    },
    {
      "cell_type": "markdown",
      "source": [
        "Creating our stack Autoencoders\n"
      ],
      "metadata": {
        "id": "dywOSe_-M2wF"
      }
    },
    {
      "cell_type": "code",
      "source": [
        "class SAE(nn.Module):\n",
        "    def __init__(self, ):\n",
        "        super(SAE, self).__init__()\n",
        "        self.fc1 = nn.Linear(no_movies, 20)\n",
        "        self.fc2 = nn.Linear(20, 10)\n",
        "        self.fc3 = nn.Linear(10, 20)\n",
        "        self.fc4 = nn.Linear(20, no_movies)\n",
        "        self.activation = nn.Sigmoid()\n",
        "    def forward(self, x):\n",
        "        x = self.activation(self.fc1(x))\n",
        "        x = self.activation(self.fc2(x))\n",
        "        x = self.activation(self.fc3(x))\n",
        "        x = self.fc4(x)\n",
        "        return x"
      ],
      "metadata": {
        "id": "tDHIbK0QMpCR"
      },
      "execution_count": 6,
      "outputs": []
    },
    {
      "cell_type": "code",
      "source": [
        "sae = SAE()\n",
        "criterion = nn.MSELoss()\n",
        "optimizer = optim.RMSprop(sae.parameters(), lr = 0.01, weight_decay = 0.5)"
      ],
      "metadata": {
        "id": "7IMKjc7hNHkN"
      },
      "execution_count": 7,
      "outputs": []
    },
    {
      "cell_type": "markdown",
      "source": [
        "Traing SAE"
      ],
      "metadata": {
        "id": "9IHdlycNNO9-"
      }
    },
    {
      "cell_type": "code",
      "source": [
        "nb_epoch = 200\n",
        "for epoch in range(1, nb_epoch + 1):\n",
        "    train_loss = 0\n",
        "    s = 0.\n",
        "    for id_user in range(no_users):\n",
        "        input = Variable(train_set[id_user]).unsqueeze(0)\n",
        "        target = input.clone()\n",
        "        if torch.sum(target.data > 0) > 0:\n",
        "            output = sae(input)\n",
        "            target.require_grad = False\n",
        "            output[target == 0] = 0\n",
        "            loss = criterion(output, target)\n",
        "            mean_corrector = no_movies/float(torch.sum(target.data > 0) + 1e-10)\n",
        "            loss.backward()\n",
        "            train_loss += np.sqrt(loss.data*mean_corrector)\n",
        "            s += 1.\n",
        "            optimizer.step()\n",
        "    print('epoch: '+str(epoch)+' loss: '+str(train_loss/s))"
      ],
      "metadata": {
        "colab": {
          "base_uri": "https://localhost:8080/"
        },
        "id": "8iUnh0QPNKam",
        "outputId": "d8bbf772-21ba-4d1d-c04b-48d94d3b1e45"
      },
      "execution_count": 8,
      "outputs": [
        {
          "output_type": "stream",
          "name": "stdout",
          "text": [
            "epoch: 1 loss: tensor(1.6516)\n",
            "epoch: 2 loss: tensor(1.0970)\n",
            "epoch: 3 loss: tensor(1.0541)\n",
            "epoch: 4 loss: tensor(1.0393)\n",
            "epoch: 5 loss: tensor(1.0314)\n",
            "epoch: 6 loss: tensor(1.0267)\n",
            "epoch: 7 loss: tensor(1.0240)\n",
            "epoch: 8 loss: tensor(1.0219)\n",
            "epoch: 9 loss: tensor(1.0206)\n",
            "epoch: 10 loss: tensor(1.0198)\n",
            "epoch: 11 loss: tensor(1.0189)\n",
            "epoch: 12 loss: tensor(1.0183)\n",
            "epoch: 13 loss: tensor(1.0178)\n",
            "epoch: 14 loss: tensor(1.0177)\n",
            "epoch: 15 loss: tensor(1.0168)\n",
            "epoch: 16 loss: tensor(1.0167)\n",
            "epoch: 17 loss: tensor(1.0163)\n",
            "epoch: 18 loss: tensor(1.0167)\n",
            "epoch: 19 loss: tensor(1.0159)\n",
            "epoch: 20 loss: tensor(1.0160)\n",
            "epoch: 21 loss: tensor(1.0159)\n",
            "epoch: 22 loss: tensor(1.0159)\n",
            "epoch: 23 loss: tensor(1.0154)\n",
            "epoch: 24 loss: tensor(1.0154)\n",
            "epoch: 25 loss: tensor(1.0147)\n",
            "epoch: 26 loss: tensor(1.0128)\n",
            "epoch: 27 loss: tensor(1.0113)\n",
            "epoch: 28 loss: tensor(1.0095)\n",
            "epoch: 29 loss: tensor(1.0085)\n",
            "epoch: 30 loss: tensor(1.0052)\n",
            "epoch: 31 loss: tensor(1.0042)\n",
            "epoch: 32 loss: tensor(0.9997)\n",
            "epoch: 33 loss: tensor(0.9983)\n",
            "epoch: 34 loss: tensor(0.9946)\n",
            "epoch: 35 loss: tensor(0.9932)\n",
            "epoch: 36 loss: tensor(0.9890)\n",
            "epoch: 37 loss: tensor(0.9883)\n",
            "epoch: 38 loss: tensor(0.9859)\n",
            "epoch: 39 loss: tensor(0.9843)\n",
            "epoch: 40 loss: tensor(0.9797)\n",
            "epoch: 41 loss: tensor(0.9790)\n",
            "epoch: 42 loss: tensor(0.9787)\n",
            "epoch: 43 loss: tensor(0.9744)\n",
            "epoch: 44 loss: tensor(0.9710)\n",
            "epoch: 45 loss: tensor(0.9701)\n",
            "epoch: 46 loss: tensor(0.9672)\n",
            "epoch: 47 loss: tensor(0.9678)\n",
            "epoch: 48 loss: tensor(0.9632)\n",
            "epoch: 49 loss: tensor(0.9635)\n",
            "epoch: 50 loss: tensor(0.9608)\n",
            "epoch: 51 loss: tensor(0.9589)\n",
            "epoch: 52 loss: tensor(0.9569)\n",
            "epoch: 53 loss: tensor(0.9562)\n",
            "epoch: 54 loss: tensor(0.9538)\n",
            "epoch: 55 loss: tensor(0.9540)\n",
            "epoch: 56 loss: tensor(0.9516)\n",
            "epoch: 57 loss: tensor(0.9518)\n",
            "epoch: 58 loss: tensor(0.9493)\n",
            "epoch: 59 loss: tensor(0.9494)\n",
            "epoch: 60 loss: tensor(0.9473)\n",
            "epoch: 61 loss: tensor(0.9474)\n",
            "epoch: 62 loss: tensor(0.9452)\n",
            "epoch: 63 loss: tensor(0.9454)\n",
            "epoch: 64 loss: tensor(0.9431)\n",
            "epoch: 65 loss: tensor(0.9442)\n",
            "epoch: 66 loss: tensor(0.9416)\n",
            "epoch: 67 loss: tensor(0.9424)\n",
            "epoch: 68 loss: tensor(0.9406)\n",
            "epoch: 69 loss: tensor(0.9414)\n",
            "epoch: 70 loss: tensor(0.9397)\n",
            "epoch: 71 loss: tensor(0.9403)\n",
            "epoch: 72 loss: tensor(0.9386)\n",
            "epoch: 73 loss: tensor(0.9390)\n",
            "epoch: 74 loss: tensor(0.9373)\n",
            "epoch: 75 loss: tensor(0.9381)\n",
            "epoch: 76 loss: tensor(0.9360)\n",
            "epoch: 77 loss: tensor(0.9369)\n",
            "epoch: 78 loss: tensor(0.9355)\n",
            "epoch: 79 loss: tensor(0.9361)\n",
            "epoch: 80 loss: tensor(0.9347)\n",
            "epoch: 81 loss: tensor(0.9358)\n",
            "epoch: 82 loss: tensor(0.9338)\n",
            "epoch: 83 loss: tensor(0.9348)\n",
            "epoch: 84 loss: tensor(0.9336)\n",
            "epoch: 85 loss: tensor(0.9344)\n",
            "epoch: 86 loss: tensor(0.9328)\n",
            "epoch: 87 loss: tensor(0.9336)\n",
            "epoch: 88 loss: tensor(0.9325)\n",
            "epoch: 89 loss: tensor(0.9328)\n",
            "epoch: 90 loss: tensor(0.9318)\n",
            "epoch: 91 loss: tensor(0.9324)\n",
            "epoch: 92 loss: tensor(0.9315)\n",
            "epoch: 93 loss: tensor(0.9319)\n",
            "epoch: 94 loss: tensor(0.9308)\n",
            "epoch: 95 loss: tensor(0.9309)\n",
            "epoch: 96 loss: tensor(0.9304)\n",
            "epoch: 97 loss: tensor(0.9308)\n",
            "epoch: 98 loss: tensor(0.9298)\n",
            "epoch: 99 loss: tensor(0.9300)\n",
            "epoch: 100 loss: tensor(0.9293)\n",
            "epoch: 101 loss: tensor(0.9293)\n",
            "epoch: 102 loss: tensor(0.9286)\n",
            "epoch: 103 loss: tensor(0.9288)\n",
            "epoch: 104 loss: tensor(0.9279)\n",
            "epoch: 105 loss: tensor(0.9282)\n",
            "epoch: 106 loss: tensor(0.9275)\n",
            "epoch: 107 loss: tensor(0.9279)\n",
            "epoch: 108 loss: tensor(0.9270)\n",
            "epoch: 109 loss: tensor(0.9273)\n",
            "epoch: 110 loss: tensor(0.9265)\n",
            "epoch: 111 loss: tensor(0.9266)\n",
            "epoch: 112 loss: tensor(0.9259)\n",
            "epoch: 113 loss: tensor(0.9260)\n",
            "epoch: 114 loss: tensor(0.9254)\n",
            "epoch: 115 loss: tensor(0.9255)\n",
            "epoch: 116 loss: tensor(0.9247)\n",
            "epoch: 117 loss: tensor(0.9249)\n",
            "epoch: 118 loss: tensor(0.9241)\n",
            "epoch: 119 loss: tensor(0.9244)\n",
            "epoch: 120 loss: tensor(0.9237)\n",
            "epoch: 121 loss: tensor(0.9239)\n",
            "epoch: 122 loss: tensor(0.9231)\n",
            "epoch: 123 loss: tensor(0.9232)\n",
            "epoch: 124 loss: tensor(0.9225)\n",
            "epoch: 125 loss: tensor(0.9228)\n",
            "epoch: 126 loss: tensor(0.9220)\n",
            "epoch: 127 loss: tensor(0.9221)\n",
            "epoch: 128 loss: tensor(0.9213)\n",
            "epoch: 129 loss: tensor(0.9217)\n",
            "epoch: 130 loss: tensor(0.9208)\n",
            "epoch: 131 loss: tensor(0.9211)\n",
            "epoch: 132 loss: tensor(0.9203)\n",
            "epoch: 133 loss: tensor(0.9205)\n",
            "epoch: 134 loss: tensor(0.9199)\n",
            "epoch: 135 loss: tensor(0.9201)\n",
            "epoch: 136 loss: tensor(0.9194)\n",
            "epoch: 137 loss: tensor(0.9195)\n",
            "epoch: 138 loss: tensor(0.9190)\n",
            "epoch: 139 loss: tensor(0.9191)\n",
            "epoch: 140 loss: tensor(0.9185)\n",
            "epoch: 141 loss: tensor(0.9185)\n",
            "epoch: 142 loss: tensor(0.9179)\n",
            "epoch: 143 loss: tensor(0.9182)\n",
            "epoch: 144 loss: tensor(0.9174)\n",
            "epoch: 145 loss: tensor(0.9176)\n",
            "epoch: 146 loss: tensor(0.9170)\n",
            "epoch: 147 loss: tensor(0.9173)\n",
            "epoch: 148 loss: tensor(0.9166)\n",
            "epoch: 149 loss: tensor(0.9168)\n",
            "epoch: 150 loss: tensor(0.9161)\n",
            "epoch: 151 loss: tensor(0.9164)\n",
            "epoch: 152 loss: tensor(0.9158)\n",
            "epoch: 153 loss: tensor(0.9161)\n",
            "epoch: 154 loss: tensor(0.9154)\n",
            "epoch: 155 loss: tensor(0.9156)\n",
            "epoch: 156 loss: tensor(0.9149)\n",
            "epoch: 157 loss: tensor(0.9153)\n",
            "epoch: 158 loss: tensor(0.9147)\n",
            "epoch: 159 loss: tensor(0.9149)\n",
            "epoch: 160 loss: tensor(0.9143)\n",
            "epoch: 161 loss: tensor(0.9146)\n",
            "epoch: 162 loss: tensor(0.9140)\n",
            "epoch: 163 loss: tensor(0.9141)\n",
            "epoch: 164 loss: tensor(0.9137)\n",
            "epoch: 165 loss: tensor(0.9138)\n",
            "epoch: 166 loss: tensor(0.9132)\n",
            "epoch: 167 loss: tensor(0.9135)\n",
            "epoch: 168 loss: tensor(0.9130)\n",
            "epoch: 169 loss: tensor(0.9133)\n",
            "epoch: 170 loss: tensor(0.9125)\n",
            "epoch: 171 loss: tensor(0.9129)\n",
            "epoch: 172 loss: tensor(0.9124)\n",
            "epoch: 173 loss: tensor(0.9127)\n",
            "epoch: 174 loss: tensor(0.9120)\n",
            "epoch: 175 loss: tensor(0.9123)\n",
            "epoch: 176 loss: tensor(0.9118)\n",
            "epoch: 177 loss: tensor(0.9120)\n",
            "epoch: 178 loss: tensor(0.9115)\n",
            "epoch: 179 loss: tensor(0.9117)\n",
            "epoch: 180 loss: tensor(0.9113)\n",
            "epoch: 181 loss: tensor(0.9116)\n",
            "epoch: 182 loss: tensor(0.9109)\n",
            "epoch: 183 loss: tensor(0.9112)\n",
            "epoch: 184 loss: tensor(0.9106)\n",
            "epoch: 185 loss: tensor(0.9110)\n",
            "epoch: 186 loss: tensor(0.9104)\n",
            "epoch: 187 loss: tensor(0.9107)\n",
            "epoch: 188 loss: tensor(0.9101)\n",
            "epoch: 189 loss: tensor(0.9104)\n",
            "epoch: 190 loss: tensor(0.9100)\n",
            "epoch: 191 loss: tensor(0.9101)\n",
            "epoch: 192 loss: tensor(0.9098)\n",
            "epoch: 193 loss: tensor(0.9100)\n",
            "epoch: 194 loss: tensor(0.9094)\n",
            "epoch: 195 loss: tensor(0.9096)\n",
            "epoch: 196 loss: tensor(0.9093)\n",
            "epoch: 197 loss: tensor(0.9095)\n",
            "epoch: 198 loss: tensor(0.9090)\n",
            "epoch: 199 loss: tensor(0.9091)\n",
            "epoch: 200 loss: tensor(0.9087)\n"
          ]
        }
      ]
    },
    {
      "cell_type": "code",
      "source": [
        "# Testing the SAE\n",
        "test_loss = 0\n",
        "s = 0.\n",
        "for id_user in range(no_users):\n",
        "    input = Variable(train_set[id_user]).unsqueeze(0)\n",
        "    target = Variable(test_set[id_user])\n",
        "    if torch.sum(target.data > 0) > 0:\n",
        "        output = sae(input)\n",
        "        target.require_grad = False\n",
        "        output[(target == 0).unsqueeze(0)] = 0\n",
        "        loss = criterion(output, target)\n",
        "        mean_corrector = no_movies/float(torch.sum(target.data > 0) + 1e-10)\n",
        "        test_loss += np.sqrt(loss.data*mean_corrector)\n",
        "        s += 1.\n",
        "print('test loss: '+str(test_loss/s))"
      ],
      "metadata": {
        "colab": {
          "base_uri": "https://localhost:8080/"
        },
        "id": "f2w23rjVNVvI",
        "outputId": "e1959469-5ea7-4949-9b04-37503249ee5d"
      },
      "execution_count": 9,
      "outputs": [
        {
          "output_type": "stream",
          "name": "stderr",
          "text": [
            "/usr/local/lib/python3.10/dist-packages/torch/nn/modules/loss.py:536: UserWarning: Using a target size (torch.Size([1682])) that is different to the input size (torch.Size([1, 1682])). This will likely lead to incorrect results due to broadcasting. Please ensure they have the same size.\n",
            "  return F.mse_loss(input, target, reduction=self.reduction)\n"
          ]
        },
        {
          "output_type": "stream",
          "name": "stdout",
          "text": [
            "test loss: tensor(0.9550)\n"
          ]
        }
      ]
    },
    {
      "cell_type": "code",
      "source": [],
      "metadata": {
        "id": "FDZZkXU8OjXl"
      },
      "execution_count": null,
      "outputs": []
    }
  ]
}