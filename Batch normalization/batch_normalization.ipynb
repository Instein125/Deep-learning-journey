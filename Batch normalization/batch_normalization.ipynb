{
  "nbformat": 4,
  "nbformat_minor": 0,
  "metadata": {
    "colab": {
      "provenance": [],
      "gpuType": "T4"
    },
    "kernelspec": {
      "name": "python3",
      "display_name": "Python 3"
    },
    "language_info": {
      "name": "python"
    },
    "accelerator": "GPU"
  },
  "cells": [
    {
      "cell_type": "code",
      "execution_count": null,
      "metadata": {
        "id": "DMow7MRsp4Py"
      },
      "outputs": [],
      "source": [
        "import tensorflow as tf\n",
        "from keras.datasets import mnist\n",
        "from tf.keras.models import Sequential\n",
        "from tf.keras.layers import Dense, Flatten, BatchNormalization"
      ]
    },
    {
      "cell_type": "code",
      "source": [
        "# setting hyperparameters\n",
        "epochs = 20\n",
        "batch_size = 250\n",
        "classes = 10\n",
        "val_split = 0.2"
      ],
      "metadata": {
        "id": "P0QXapM8qT74"
      },
      "execution_count": null,
      "outputs": []
    },
    {
      "cell_type": "code",
      "source": [
        "# loading dataset and preprocessing\n",
        "(X_train,y_train),(X_test,y_test) = mnist.load_data()\n",
        "\n",
        "X_train_shape = X_train.shape\n",
        "X_test_shape = X_test.shape\n",
        "input_shape = (X_train_shape[1],X_train_shape[2])\n",
        "\n",
        "# Parse number as floats\n",
        "X_train = X_train.astype('float32')\n",
        "X_test = X_test.astype('float32')\n",
        "\n",
        "# Normalize data\n",
        "X_train = X_train/255\n",
        "X_test = X_test/255"
      ],
      "metadata": {
        "id": "QgZKvfY9s8xC"
      },
      "execution_count": null,
      "outputs": []
    },
    {
      "cell_type": "markdown",
      "source": [
        "Without batch normalization"
      ],
      "metadata": {
        "id": "unHD3_d8tS8c"
      }
    },
    {
      "cell_type": "code",
      "source": [
        "model = Sequential()\n",
        "\n",
        "model.add(Flatten(input_shape = input_shape))\n",
        "model.add(Dense(128, activation = \"relu\"))\n",
        "model.add(Dense(classes, activation = \"softmax\"))"
      ],
      "metadata": {
        "id": "i7x5hHz1tSQh"
      },
      "execution_count": null,
      "outputs": []
    },
    {
      "cell_type": "code",
      "source": [
        "model.compile(optimizer = 'sgd', loss='SparseCategoricalCrossentropy',metrics=['accuracy'])\n",
        "history = model.fit(X_train,y_train,epochs=epochs,batch_size=batch_size,validation_split=val_spilt)"
      ],
      "metadata": {
        "id": "cZ29fhcItwGp"
      },
      "execution_count": null,
      "outputs": []
    },
    {
      "cell_type": "code",
      "source": [
        "model.evaluate(X_test,y_test)"
      ],
      "metadata": {
        "id": "F-pcAUQNt9aU"
      },
      "execution_count": null,
      "outputs": []
    },
    {
      "cell_type": "markdown",
      "source": [
        "With batch normalization"
      ],
      "metadata": {
        "id": "-xiqPnkvuAxm"
      }
    },
    {
      "cell_type": "code",
      "source": [
        "model = Sequential()\n",
        "\n",
        "model.add(Flatten(input_shape = input_shape))\n",
        "model.add(Dense(128, activation = \"relu\"))\n",
        "model.add(BatchNormalization())\n",
        "model.add(Dense(classes, activation = \"softmax\"))"
      ],
      "metadata": {
        "id": "2Dx7AY79t_kt"
      },
      "execution_count": null,
      "outputs": []
    },
    {
      "cell_type": "code",
      "source": [
        "model.compile(optimizer = 'sgd', loss='SparseCategoricalCrossentropy',metrics=['accuracy'])\n",
        "history_bn = model.fit(X_train,y_train,epochs=epochs,batch_size=batch_size,validation_split=val_spilt)"
      ],
      "metadata": {
        "id": "VA-IQd5KuWqy"
      },
      "execution_count": null,
      "outputs": []
    },
    {
      "cell_type": "code",
      "source": [
        "model.evaluate(X_test,y_test)"
      ],
      "metadata": {
        "id": "VCHtZoFBua7K"
      },
      "execution_count": null,
      "outputs": []
    },
    {
      "cell_type": "code",
      "source": [
        "# compare the accuracy plots of both the training.\n",
        "import matplotlib.pyplot as plt\n",
        "\n",
        "fig,(ax1,ax2) = plt.subplots(ncols=2, nrows = 1, figsize = (16,5))\n",
        "ax1.plot(history.history[\"accuracy\"],label = \"accuracy\")\n",
        "ax1.plot(history.history[\"val_accuracy\"],label = \"val accuracy\")\n",
        "\n",
        "ax2.plot(history_bn.history[\"accuracy\"],label = \"accuracy\")\n",
        "ax2.plot(history_bn.history[\"val_accuracy\"],label = \"val accuracy\")\n",
        "\n",
        "ax2.set_title('With BatchNormalization')\n",
        "ax1.set_ylabel('accuracy')\n",
        "ax1.set_xlabel('epoch')\n",
        "ax2.set_ylabel('accuracy')\n",
        "ax2.set_xlabel('epoch')\n",
        "ax1.legend()\n",
        "ax2.legend()"
      ],
      "metadata": {
        "id": "uMsR7ee9uyiS"
      },
      "execution_count": null,
      "outputs": []
    }
  ]
}