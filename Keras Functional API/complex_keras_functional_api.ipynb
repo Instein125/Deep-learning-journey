{
  "nbformat": 4,
  "nbformat_minor": 0,
  "metadata": {
    "colab": {
      "provenance": []
    },
    "kernelspec": {
      "name": "python3",
      "display_name": "Python 3"
    },
    "language_info": {
      "name": "python"
    }
  },
  "cells": [
    {
      "cell_type": "code",
      "execution_count": 1,
      "metadata": {
        "id": "G8WQ3QUa_oBL"
      },
      "outputs": [],
      "source": [
        "from keras.models import Model\n",
        "from keras.layers import *"
      ]
    },
    {
      "cell_type": "markdown",
      "source": [
        "defining Input shapes"
      ],
      "metadata": {
        "id": "85KJVs4N_1Hj"
      }
    },
    {
      "cell_type": "code",
      "source": [
        "inputA = Input(shape = (32,))\n",
        "inputB = Input(shape = (128,))"
      ],
      "metadata": {
        "id": "-1PQGxmQ_yzT"
      },
      "execution_count": 5,
      "outputs": []
    },
    {
      "cell_type": "markdown",
      "source": [
        "Defining layer for inputA"
      ],
      "metadata": {
        "id": "Rb26l0cEAIJ2"
      }
    },
    {
      "cell_type": "code",
      "source": [
        "x = Dense(8, activation = 'relu')(inputA)\n",
        "x1 = Dense(4, activation = 'relu')(x)"
      ],
      "metadata": {
        "id": "YN5ut_kMAEkm"
      },
      "execution_count": 6,
      "outputs": []
    },
    {
      "cell_type": "markdown",
      "source": [
        "Defining layers for inputB"
      ],
      "metadata": {
        "id": "MK3zvtlUAWoS"
      }
    },
    {
      "cell_type": "code",
      "source": [
        "y = Dense(64,activation = 'relu')(inputB)\n",
        "y1 = Dense(32, activation = 'relu')(y)\n",
        "y2 = Dense(4, activation ='relu')(y1)"
      ],
      "metadata": {
        "id": "mx17TsO0AV28"
      },
      "execution_count": 7,
      "outputs": []
    },
    {
      "cell_type": "markdown",
      "source": [
        "Combining two brnches"
      ],
      "metadata": {
        "id": "14-vNhloAtc4"
      }
    },
    {
      "cell_type": "code",
      "source": [
        "combined = concatenate([x1, y2])"
      ],
      "metadata": {
        "id": "o1imJe3qAntQ"
      },
      "execution_count": 8,
      "outputs": []
    },
    {
      "cell_type": "markdown",
      "source": [
        "Defining hidden layer for concatenated"
      ],
      "metadata": {
        "id": "UKjn-LjgA41f"
      }
    },
    {
      "cell_type": "code",
      "source": [
        "z = Dense(2, activation = 'relu')(combined)\n",
        "z1 = Dense(1, activation = 'linear')(z)"
      ],
      "metadata": {
        "id": "qLMliSzaA1zn"
      },
      "execution_count": 10,
      "outputs": []
    },
    {
      "cell_type": "markdown",
      "source": [
        "Creating out model object"
      ],
      "metadata": {
        "id": "5vvGO2IqBH3n"
      }
    },
    {
      "cell_type": "code",
      "source": [
        "model = Model(inputs = [inputA, inputB], outputs = z1)"
      ],
      "metadata": {
        "id": "PLVzSbAOBGwk"
      },
      "execution_count": 11,
      "outputs": []
    },
    {
      "cell_type": "code",
      "source": [
        "model.summary()"
      ],
      "metadata": {
        "colab": {
          "base_uri": "https://localhost:8080/"
        },
        "id": "_cZhWvx0BWHz",
        "outputId": "ab6431a2-1d19-431f-fa5f-a1ee5a4cbed4"
      },
      "execution_count": 12,
      "outputs": [
        {
          "output_type": "stream",
          "name": "stdout",
          "text": [
            "Model: \"model\"\n",
            "__________________________________________________________________________________________________\n",
            " Layer (type)                   Output Shape         Param #     Connected to                     \n",
            "==================================================================================================\n",
            " input_4 (InputLayer)           [(None, 128)]        0           []                               \n",
            "                                                                                                  \n",
            " input_3 (InputLayer)           [(None, 32)]         0           []                               \n",
            "                                                                                                  \n",
            " dense_5 (Dense)                (None, 64)           8256        ['input_4[0][0]']                \n",
            "                                                                                                  \n",
            " dense_3 (Dense)                (None, 8)            264         ['input_3[0][0]']                \n",
            "                                                                                                  \n",
            " dense_6 (Dense)                (None, 32)           2080        ['dense_5[0][0]']                \n",
            "                                                                                                  \n",
            " dense_4 (Dense)                (None, 4)            36          ['dense_3[0][0]']                \n",
            "                                                                                                  \n",
            " dense_7 (Dense)                (None, 4)            132         ['dense_6[0][0]']                \n",
            "                                                                                                  \n",
            " concatenate (Concatenate)      (None, 8)            0           ['dense_4[0][0]',                \n",
            "                                                                  'dense_7[0][0]']                \n",
            "                                                                                                  \n",
            " dense_10 (Dense)               (None, 2)            18          ['concatenate[0][0]']            \n",
            "                                                                                                  \n",
            " dense_11 (Dense)               (None, 1)            3           ['dense_10[0][0]']               \n",
            "                                                                                                  \n",
            "==================================================================================================\n",
            "Total params: 10,789\n",
            "Trainable params: 10,789\n",
            "Non-trainable params: 0\n",
            "__________________________________________________________________________________________________\n"
          ]
        }
      ]
    },
    {
      "cell_type": "code",
      "source": [
        "from keras.utils import plot_model\n",
        "plot_model(model)"
      ],
      "metadata": {
        "colab": {
          "base_uri": "https://localhost:8080/",
          "height": 661
        },
        "id": "3xqGOrZfBXoE",
        "outputId": "4d3930a6-7b06-496e-8aa6-ffaa90d9e125"
      },
      "execution_count": 13,
      "outputs": [
        {
          "output_type": "execute_result",
          "data": {
            "image/png": "[encoded data removed]",
            "text/plain": [
              "<IPython.core.display.Image object>"
            ]
          },
          "metadata": {},
          "execution_count": 13
        }
      ]
    },
    {
      "cell_type": "code",
      "source": [],
      "metadata": {
        "id": "mEHATGd1BdBB"
      },
      "execution_count": null,
      "outputs": []
    }
  ]
}