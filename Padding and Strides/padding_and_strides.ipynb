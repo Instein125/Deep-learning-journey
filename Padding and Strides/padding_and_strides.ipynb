{
  "nbformat": 4,
  "nbformat_minor": 0,
  "metadata": {
    "colab": {
      "provenance": []
    },
    "kernelspec": {
      "name": "python3",
      "display_name": "Python 3"
    },
    "language_info": {
      "name": "python"
    }
  },
  "cells": [
    {
      "cell_type": "code",
      "execution_count": 2,
      "metadata": {
        "id": "AAkroO5im4FQ"
      },
      "outputs": [],
      "source": [
        "import numpy as np\n",
        "import pandas as pd\n",
        "import tensorflow as tf\n",
        "from tensorflow import keras\n",
        "from keras.models import Sequential\n",
        "from keras.layers import Conv2D, Dense, Flatten\n",
        "from keras.datasets import mnist"
      ]
    },
    {
      "cell_type": "code",
      "source": [
        "(X_train, y_train), (X_test, y_test) = mnist.load_data()"
      ],
      "metadata": {
        "colab": {
          "base_uri": "https://localhost:8080/"
        },
        "id": "Vd-J0dNLnTu8",
        "outputId": "5c012cb2-56dd-45a1-b5c4-082a3ddd2368"
      },
      "execution_count": 3,
      "outputs": [
        {
          "output_type": "stream",
          "name": "stdout",
          "text": [
            "Downloading data from https://storage.googleapis.com/tensorflow/tf-keras-datasets/mnist.npz\n",
            "11490434/11490434 [==============================] - 0s 0us/step\n"
          ]
        }
      ]
    },
    {
      "cell_type": "markdown",
      "source": [
        "Without padding.\n",
        "In keras we set padding = \"valid\" for this purpose"
      ],
      "metadata": {
        "id": "MN7KChQrn_50"
      }
    },
    {
      "cell_type": "code",
      "source": [
        "model = Sequential()\n",
        "\n",
        "model.add(Conv2D(10, kernel_size=(3,3), padding=\"valid\", activation = \"relu\", input_shape = (28,28,1)))\n",
        "model.add(Conv2D(10, kernel_size=(3,3), padding=\"valid\", activation = \"relu\"))\n",
        "model.add(Conv2D(10, kernel_size=(3,3), padding=\"valid\", activation = \"relu\"))\n",
        "\n",
        "model.add(Flatten())\n",
        "\n",
        "model.add(Dense(128, activation = \"relu\"))\n",
        "model.add(Dense(10, activation = \"softmax\"))"
      ],
      "metadata": {
        "id": "zEjT_C1fniPl"
      },
      "execution_count": 4,
      "outputs": []
    },
    {
      "cell_type": "code",
      "source": [
        "model.summary()"
      ],
      "metadata": {
        "colab": {
          "base_uri": "https://localhost:8080/"
        },
        "id": "WsVDi0A0obUs",
        "outputId": "6baf72ca-ccaf-41eb-ef94-24ae9b366f17"
      },
      "execution_count": 5,
      "outputs": [
        {
          "output_type": "stream",
          "name": "stdout",
          "text": [
            "Model: \"sequential\"\n",
            "_________________________________________________________________\n",
            " Layer (type)                Output Shape              Param #   \n",
            "=================================================================\n",
            " conv2d (Conv2D)             (None, 26, 26, 10)        100       \n",
            "                                                                 \n",
            " conv2d_1 (Conv2D)           (None, 24, 24, 10)        910       \n",
            "                                                                 \n",
            " conv2d_2 (Conv2D)           (None, 22, 22, 10)        910       \n",
            "                                                                 \n",
            " flatten (Flatten)           (None, 4840)              0         \n",
            "                                                                 \n",
            " dense (Dense)               (None, 128)               619648    \n",
            "                                                                 \n",
            " dense_1 (Dense)             (None, 10)                1290      \n",
            "                                                                 \n",
            "=================================================================\n",
            "Total params: 622,858\n",
            "Trainable params: 622,858\n",
            "Non-trainable params: 0\n",
            "_________________________________________________________________\n"
          ]
        }
      ]
    },
    {
      "cell_type": "markdown",
      "source": [
        "Here in above model summary we can see output shape of layer is decreasing."
      ],
      "metadata": {
        "id": "YrdrIqTyoeMY"
      }
    },
    {
      "cell_type": "markdown",
      "source": [
        "With padding. In keras we set padding = \"same\" for this purpose"
      ],
      "metadata": {
        "id": "778Ol1UJomfM"
      }
    },
    {
      "cell_type": "code",
      "source": [
        "model = Sequential()\n",
        "\n",
        "model.add(Conv2D(10, kernel_size=(3,3), padding=\"same\", activation = \"relu\", input_shape = (28,28,1)))\n",
        "model.add(Conv2D(10, kernel_size=(3,3), padding=\"same\", activation = \"relu\"))\n",
        "model.add(Conv2D(10, kernel_size=(3,3), padding=\"same\", activation = \"relu\"))\n",
        "\n",
        "model.add(Flatten())\n",
        "\n",
        "model.add(Dense(128, activation = \"relu\"))\n",
        "model.add(Dense(10, activation = \"softmax\"))"
      ],
      "metadata": {
        "id": "WvQLlOvLoc0D"
      },
      "execution_count": 6,
      "outputs": []
    },
    {
      "cell_type": "code",
      "source": [
        "model.summary()"
      ],
      "metadata": {
        "colab": {
          "base_uri": "https://localhost:8080/"
        },
        "id": "ydfvkgb6orKX",
        "outputId": "cc80679b-c9e0-4695-c0e8-0f5a4ff6ecca"
      },
      "execution_count": 7,
      "outputs": [
        {
          "output_type": "stream",
          "name": "stdout",
          "text": [
            "Model: \"sequential_1\"\n",
            "_________________________________________________________________\n",
            " Layer (type)                Output Shape              Param #   \n",
            "=================================================================\n",
            " conv2d_3 (Conv2D)           (None, 28, 28, 10)        100       \n",
            "                                                                 \n",
            " conv2d_4 (Conv2D)           (None, 28, 28, 10)        910       \n",
            "                                                                 \n",
            " conv2d_5 (Conv2D)           (None, 28, 28, 10)        910       \n",
            "                                                                 \n",
            " flatten_1 (Flatten)         (None, 7840)              0         \n",
            "                                                                 \n",
            " dense_2 (Dense)             (None, 128)               1003648   \n",
            "                                                                 \n",
            " dense_3 (Dense)             (None, 10)                1290      \n",
            "                                                                 \n",
            "=================================================================\n",
            "Total params: 1,006,858\n",
            "Trainable params: 1,006,858\n",
            "Non-trainable params: 0\n",
            "_________________________________________________________________\n"
          ]
        }
      ]
    },
    {
      "cell_type": "markdown",
      "source": [
        "Here in above model summary we can see output shape of layer is able to maintain the original image dimension."
      ],
      "metadata": {
        "id": "bhZVy8kfouiE"
      }
    },
    {
      "cell_type": "markdown",
      "source": [
        "Using Strides"
      ],
      "metadata": {
        "id": "8EUJxTWQo2r-"
      }
    },
    {
      "cell_type": "code",
      "source": [
        "model = Sequential()\n",
        "\n",
        "model.add(Conv2D(10, kernel_size=(3,3), padding=\"same\", strides = (2,2), activation = \"relu\", input_shape = (28,28,1)))\n",
        "model.add(Conv2D(10, kernel_size=(3,3), padding=\"same\",strides = (2,2), activation = \"relu\"))\n",
        "model.add(Conv2D(10, kernel_size=(3,3), padding=\"same\", strides = (2,2),activation = \"relu\"))\n",
        "\n",
        "model.add(Flatten())\n",
        "\n",
        "model.add(Dense(128, activation = \"relu\"))\n",
        "model.add(Dense(10, activation = \"softmax\"))"
      ],
      "metadata": {
        "id": "UKCf06qVoswD"
      },
      "execution_count": 8,
      "outputs": []
    },
    {
      "cell_type": "code",
      "source": [
        "model.summary()"
      ],
      "metadata": {
        "id": "DQ-BuVmkpAvc",
        "outputId": "9497205a-65d1-4986-c633-48a88f48d982",
        "colab": {
          "base_uri": "https://localhost:8080/"
        }
      },
      "execution_count": 9,
      "outputs": [
        {
          "output_type": "stream",
          "name": "stdout",
          "text": [
            "Model: \"sequential_2\"\n",
            "_________________________________________________________________\n",
            " Layer (type)                Output Shape              Param #   \n",
            "=================================================================\n",
            " conv2d_6 (Conv2D)           (None, 14, 14, 10)        100       \n",
            "                                                                 \n",
            " conv2d_7 (Conv2D)           (None, 7, 7, 10)          910       \n",
            "                                                                 \n",
            " conv2d_8 (Conv2D)           (None, 4, 4, 10)          910       \n",
            "                                                                 \n",
            " flatten_2 (Flatten)         (None, 160)               0         \n",
            "                                                                 \n",
            " dense_4 (Dense)             (None, 128)               20608     \n",
            "                                                                 \n",
            " dense_5 (Dense)             (None, 10)                1290      \n",
            "                                                                 \n",
            "=================================================================\n",
            "Total params: 23,818\n",
            "Trainable params: 23,818\n",
            "Non-trainable params: 0\n",
            "_________________________________________________________________\n"
          ]
        }
      ]
    }
  ]
}