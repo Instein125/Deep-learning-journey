{
  "nbformat": 4,
  "nbformat_minor": 0,
  "metadata": {
    "colab": {
      "provenance": []
    },
    "kernelspec": {
      "name": "python3",
      "display_name": "Python 3"
    },
    "language_info": {
      "name": "python"
    }
  },
  "cells": [
    {
      "cell_type": "code",
      "execution_count": 1,
      "metadata": {
        "id": "kWDlt--Uaxho"
      },
      "outputs": [],
      "source": [
        "import numpy as np\n",
        "from tensorflow import keras\n",
        "\n",
        "from tensorflow.keras import layers\n",
        "from tensorflow.keras.layers import Input, Add, Activation, BatchNormalization, Conv2D"
      ]
    },
    {
      "cell_type": "code",
      "source": [
        "class IdentityBlock(keras.layers.Layer):\n",
        "  def __init__(self, channels, f):\n",
        "    super(IdentityBlock, self).__init__(name='IdentityBlock')\n",
        "    self.channels = channels\n",
        "    self.f = f\n",
        "\n",
        "  def build(self, input):\n",
        "    self.conv1 = Conv2D(filters = self.channels[0], kernel_size = (1,1), strides = (1,1), \\\n",
        "                        padding ='valid')\n",
        "    self.bn1 = BatchNormalization(axis = 3)\n",
        "    self.conv2 = Conv2D(filters = self.channels[1], kernel_size = (self.f,self.f), strides = (1,1),\\\n",
        "                        padding ='same')\n",
        "    self.bn2 = BatchNormalization(axis = 3)\n",
        "    self.conv3 = Conv2D(filters = self.channels[2], kernel_size = (1,1), strides = (1,1), \\\n",
        "                        padding ='valid')\n",
        "    self.bn3 = BatchNormalization(axis = 3)\n",
        "    self.relu = Activation('relu')\n",
        "\n",
        "  def call(self, x):\n",
        "    ## Main path ##\n",
        "    x1 = self.conv1(x)\n",
        "    x1 = self.bn1(x1)\n",
        "    x1 = self.relu(x1)\n",
        "    x1 = self.conv2(x1)\n",
        "    x1 = self.bn2(x1)\n",
        "    x1 = self.relu(x1)\n",
        "    x1 = self.conv3(x1)\n",
        "    x1 = self.bn3(x1)\n",
        "\n",
        "    ## Shortcut path ##\n",
        "    x1 = Add()([x, x1])\n",
        "    x1 = self.relu(x1)\n",
        "    print(x1)\n",
        "    return x1\n"
      ],
      "metadata": {
        "id": "ZZHh9NJDa2sj"
      },
      "execution_count": 2,
      "outputs": []
    },
    {
      "cell_type": "code",
      "source": [
        "# generate some fake data to work with\n",
        "np.random.seed(0)\n",
        "X = np.random.randn(3, 4, 4, 6)\n",
        "print('original data shape:', X.shape)\n",
        "\n",
        "# Defining parameters to pass in the function\n",
        "input = Input(shape=X.shape[1:])\n",
        "identity_block_obj = IdentityBlock(channels = [2, 4, 6], f = 3)\n",
        "outputs = identity_block_obj(input)\n",
        "print(outputs.shape)"
      ],
      "metadata": {
        "colab": {
          "base_uri": "https://localhost:8080/"
        },
        "id": "Taqfus1qa73s",
        "outputId": "33103c4a-392f-44a1-dc32-2d2f1aa3ecea"
      },
      "execution_count": 3,
      "outputs": [
        {
          "output_type": "stream",
          "name": "stdout",
          "text": [
            "original data shape: (3, 4, 4, 6)\n",
            "Tensor(\"IdentityBlock/activation/Relu_2:0\", shape=(None, 4, 4, 6), dtype=float32)\n",
            "(None, 4, 4, 6)\n"
          ]
        }
      ]
    },
    {
      "cell_type": "code",
      "source": [
        "class ConvolutionalBlock(keras.layers.Layer):\n",
        "  def __init__(self, channels, f, strides):\n",
        "    super(ConvolutionalBlock, self).__init__(name='ConvolutionalBlock')\n",
        "    self.channels = channels\n",
        "    self.f = f\n",
        "    self.s = strides\n",
        "\n",
        "  def build(self, input):\n",
        "    self.conv1 = Conv2D(filters = self.channels[0], kernel_size = (1,1), \\\n",
        "                        strides = (self.s,self.s), padding ='valid')\n",
        "    self.bn1 = BatchNormalization(axis = 3)\n",
        "    self.conv2 = Conv2D(filters = self.channels[1], kernel_size = (self.f,self.f),\\\n",
        "                        strides = (1,1), padding ='same')\n",
        "    self.bn2 = BatchNormalization(axis = 3)\n",
        "    self.conv3 = Conv2D(filters = self.channels[2], kernel_size = (1,1), \\\n",
        "                        strides = (1,1), padding ='valid')\n",
        "    self.bn3 = BatchNormalization(axis = 3)\n",
        "    self.conv_shortcut = Conv2D(filters = self.channels[2], kernel_size = (1, 1),\\\n",
        "                                strides = (self.s,self.s), padding = 'valid')\n",
        "    self.bn4= BatchNormalization(axis = 3)\n",
        "\n",
        "    self.relu = Activation('relu')\n",
        "\n",
        "  def call(self, x):\n",
        "    ## Main path ##\n",
        "    x1 = self.conv1(x)\n",
        "    x1 = self.bn1(x1)\n",
        "    x1 = self.relu(x1)\n",
        "    x1 = self.conv2(x1)\n",
        "    x1 = self.bn2(x1)\n",
        "    x1 = self.relu(x1)\n",
        "    x1 = self.conv3(x1)\n",
        "    x1 = self.bn3(x1)\n",
        "\n",
        "    ## Shortcut path ##\n",
        "    x2 = self.conv_shortcut(x)\n",
        "    x2 = self.bn4(x2)\n",
        "\n",
        "    ## Adding output of 2 paths ##\n",
        "    x1 = Add()([x2, x1])\n",
        "    x1 = self.relu(x1)\n",
        "\n",
        "    return x1"
      ],
      "metadata": {
        "id": "p5lGlXdFa__6"
      },
      "execution_count": 4,
      "outputs": []
    },
    {
      "cell_type": "code",
      "source": [
        "# generate some fake data to work with\n",
        "np.random.seed(0)\n",
        "X = np.random.randn(3, 4, 4, 6)\n",
        "print('original data shape:', X.shape)\n",
        "\n",
        "# Defining parameters to pass in the function\n",
        "input = layers.Input(shape=X.shape[1:])\n",
        "conv_block_obj = ConvolutionalBlock(channels = [2, 4, 6], f = 3, strides = 2)\n",
        "outputs = conv_block_obj(input)\n",
        "print(outputs.shape)"
      ],
      "metadata": {
        "colab": {
          "base_uri": "https://localhost:8080/"
        },
        "id": "rSsC3IGGbLpL",
        "outputId": "b16588a0-12ab-4ecd-866d-cd32abf12a7b"
      },
      "execution_count": 5,
      "outputs": [
        {
          "output_type": "stream",
          "name": "stdout",
          "text": [
            "original data shape: (3, 4, 4, 6)\n",
            "(None, 2, 2, 6)\n"
          ]
        }
      ]
    },
    {
      "cell_type": "code",
      "source": [],
      "metadata": {
        "id": "VIVb_h3gbO6C"
      },
      "execution_count": null,
      "outputs": []
    }
  ]
}